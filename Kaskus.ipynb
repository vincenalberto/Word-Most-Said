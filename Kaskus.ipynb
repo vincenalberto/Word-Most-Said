{
 "cells": [
  {
   "cell_type": "code",
   "execution_count": 1,
   "metadata": {},
   "outputs": [],
   "source": [
    "from bs4 import BeautifulSoup"
   ]
  },
  {
   "cell_type": "code",
   "execution_count": 2,
   "metadata": {},
   "outputs": [],
   "source": [
    "import pandas as pd\n",
    "import numpy as np"
   ]
  },
  {
   "cell_type": "code",
   "execution_count": 61,
   "metadata": {},
   "outputs": [],
   "source": [
    "import requests\n",
    "from bs4 import BeautifulSoup\n",
    "from selenium import webdriver\n",
    "import requests\n",
    "from requests.exceptions import ConnectionError\n",
    "from selenium.webdriver.chrome.options import Options"
   ]
  },
  {
   "cell_type": "code",
   "execution_count": 62,
   "metadata": {},
   "outputs": [],
   "source": [
    "options = Options()\n",
    "options.add_argument('--headless')\n",
    "options.add_argument('--disable-gpu')  # Last I checked this was necessary.\n",
    "options.add_argument('--disable-extensions')\n",
    "options.add_argument(\"--incognito\");\n",
    "driver = webdriver.Chrome('C:/Users/vincen059390/Downloads/chromedriver.exe', chrome_options = options)\n"
   ]
  },
  {
   "cell_type": "code",
   "execution_count": 5,
   "metadata": {},
   "outputs": [],
   "source": [
    "url = 'https://www.kaskus.co.id/search/forum?q=Mobil+Baru&sort=popular&order=desc&page=1'\n",
    "response = requests.get(url)\n",
    "html = response.text\n",
    "soup = BeautifulSoup(html,'html5lib')"
   ]
  },
  {
   "cell_type": "code",
   "execution_count": 22,
   "metadata": {
    "scrolled": true
   },
   "outputs": [
    {
     "name": "stdout",
     "output_type": "stream",
     "text": [
      "Linknya : Keluhan kualitas mobil Honda HRV baru yang bermasalah\n",
      "Linknya : Mobil Bekas vs Mobil Baru, Lebih Untung Mana?\n",
      "Linknya : mending beli mobil baru ato bekas gan ????\n",
      "Linknya : Waspada! Baca Ini Sebelum Nyicil Mobil atau Motor Baru/Bekas!\n",
      "Linknya : Hati Hati Beli Mobil di SUZUKI Mobil Dewi Sartika, BELI MOBIL BARU SUDAH BANYAK KARAT\n",
      "Linknya : Puluhan Tahun Ane Baru Tau Alasannya Kenapa Mobil Berhenti Di Lampu Merah Gan :(\n",
      "Linknya : Bukan Ku Tak Mampu Beli Mobil Baru, Tapi Beli Mobil Bekas Itu Sesuatu!\n",
      "Linknya : Jualan Pake Mobil, Sebuah Gebrakan Penjualan Gaya Baru?\n",
      "Linknya : Koleksi mobil ane gan,, baru beli kemaren (sorry no pamer!!)\n",
      "Linknya : TANYA : bagaimana prosedur membeli mobil baru secara tunai ? thanks.\n",
      "Linknya : Budget kurleb 100 juta beli mobil baru atau bekas ya ?\n",
      "Linknya : Menuju Era Baru Kepemilikan Mobil. Ini yang akan terjadi!\n",
      "Linknya : tanya tentang pengalaman beli mobil baru\n",
      "Linknya : Tergoda Beli Mobil Baru? Pertimbangkan 5 Konsekuensi Ini\n",
      "Linknya : Cara Baru Penipuan Odometer Mobil Toyota Innova\n",
      "Linknya : Begini Cara Negosiasi Ketika Beli Mobil Baru\n",
      "Linknya : [HATI-HATI] Modus Penipuan - Jual Beli Mobil Baru\n",
      "Linknya : Keponya Ketika Biker Baru Beralih Ke Mobil, Dulu Ente Yang Mana?\n",
      "Linknya : Mitsubishi Launching Mobil Baru \"New Outlander Sport\" gan !\n",
      "Linknya : Seperti Apa Mobil Kepresidenan Prancis yang Baru?\n"
     ]
    }
   ],
   "source": [
    "#dapetin judul\n",
    "for div in soup.find_all(class_='post-title'):\n",
    "    for childdiv in div.find_all('a'):\n",
    "        print (\"Linknya : \"+childdiv.string) #london, york"
   ]
  },
  {
   "cell_type": "code",
   "execution_count": 53,
   "metadata": {},
   "outputs": [
    {
     "name": "stdout",
     "output_type": "stream",
     "text": [
      "penulisnya : 26-01-2018 07:15 \n",
      "penulisnya : 18-01-2017 11:01 \n",
      "penulisnya : 19-07-2013 09:29 \n",
      "penulisnya : 09-02-2017 15:06 \n",
      "penulisnya : 11-06-2017 03:04 \n",
      "penulisnya : 27-04-2012 23:46 \n",
      "penulisnya : 01-03-2018 12:03 \n",
      "penulisnya : 25-06-2018 16:51 \n",
      "penulisnya : 15-03-2012 22:26 \n",
      "penulisnya : 15-11-2012 18:35 \n",
      "penulisnya : 22-09-2014 11:15 \n",
      "penulisnya : 30-06-2017 09:23 \n",
      "penulisnya : 17-05-2017 00:43 \n",
      "penulisnya : 12-06-2017 10:53 \n",
      "penulisnya : 12-04-2016 23:49 \n",
      "penulisnya : 21-08-2014 20:53 \n",
      "penulisnya : 01-04-2014 02:58 \n",
      "penulisnya : 08-08-2016 22:44 \n",
      "penulisnya : 11-07-2012 20:17 \n",
      "penulisnya : 16-05-2017 11:26 \n"
     ]
    }
   ],
   "source": [
    "#dapetin tanggal pembuatan\n",
    "for div in soup.find_all(class_='author'):\n",
    "    for childdiv in div.find_all('a'):\n",
    "        print (\"penulisnya : \"+childdiv.previous_sibling.replace('Created ','').replace(' By','')) #london, york"
   ]
  },
  {
   "cell_type": "code",
   "execution_count": 32,
   "metadata": {
    "scrolled": true
   },
   "outputs": [
    {
     "name": "stdout",
     "output_type": "stream",
     "text": [
      "penulisnya : hendranata\n",
      "penulisnya : abdullman\n",
      "penulisnya : arsitekbagus\n",
      "penulisnya : abdullman\n",
      "penulisnya : irvansaputra\n",
      "penulisnya : Org.Net\n",
      "penulisnya : ratnady\n",
      "penulisnya : tafakoer\n",
      "penulisnya : indieramayu\n",
      "penulisnya : D337AY\n",
      "penulisnya : dudagelisah\n",
      "penulisnya : favor.id\n",
      "penulisnya : tama82\n",
      "penulisnya : approve.cc\n",
      "penulisnya : bugaboo29\n",
      "penulisnya : adkhanozawa\n",
      "penulisnya : hari.igo\n",
      "penulisnya : iskrim\n",
      "penulisnya : IndoMitsubishi\n",
      "penulisnya : kekinian21\n"
     ]
    }
   ],
   "source": [
    "#dapetin penulis\n",
    "for div in soup.find_all(class_='author'):\n",
    "    for childdiv in div.find_all('a'):\n",
    "        print (\"penulisnya : \"+childdiv.string) #london, york"
   ]
  },
  {
   "cell_type": "code",
   "execution_count": 56,
   "metadata": {},
   "outputs": [
    {
     "name": "stdout",
     "output_type": "stream",
     "text": [
      "penulisnya : https://www.kaskus.co.id/thread/5a6a7326c1cb1752668b4567\n",
      "penulisnya : https://www.kaskus.co.id/thread/587ee87e1ee5df27748b4567\n",
      "penulisnya : https://www.kaskus.co.id/thread/51e8a4708027cf8b5c000004\n",
      "penulisnya : https://www.kaskus.co.id/thread/589c2307c2cb17365d8b456a\n",
      "penulisnya : https://www.kaskus.co.id/thread/593c50df9e7404fe5f8b4567\n",
      "penulisnya : https://www.kaskus.co.id/thread/000000000000000014168415\n",
      "penulisnya : https://www.kaskus.co.id/thread/5a97898adad7707b398b4567\n",
      "penulisnya : https://www.kaskus.co.id/thread/5b30bb3bd9d770056f8b4568\n",
      "penulisnya : https://www.kaskus.co.id/thread/000000000000000013550840\n",
      "penulisnya : https://www.kaskus.co.id/thread/50a4d382631243d70f000087\n",
      "penulisnya : https://www.kaskus.co.id/thread/541fa267a1cb1756338b4569\n",
      "penulisnya : https://www.kaskus.co.id/thread/5955b63cc1d770b86c8b456d\n",
      "penulisnya : https://www.kaskus.co.id/thread/591b3a3fc1cb17704a8b4567\n",
      "penulisnya : https://www.kaskus.co.id/thread/593e1043c0d770455a8b4569\n",
      "penulisnya : https://www.kaskus.co.id/thread/570d27051a997583798b456c\n",
      "penulisnya : https://www.kaskus.co.id/thread/53f5f9bec1cb178c1a8b458a\n",
      "penulisnya : https://www.kaskus.co.id/thread/5339c8d91e0bc3565f8b491c\n",
      "penulisnya : https://www.kaskus.co.id/thread/57a8a8eb96bde686748b4567\n",
      "penulisnya : https://www.kaskus.co.id/thread/000000000000000015409685\n",
      "penulisnya : https://www.kaskus.co.id/thread/591a7f5f902cfee6288b456e\n"
     ]
    }
   ],
   "source": [
    "#dapetin link forumnya\n",
    "for div in soup.find_all(class_='post-title'):\n",
    "    for childdiv in div.find_all('a'):\n",
    "        print (\"penulisnya : \"+childdiv['href']) #london, york"
   ]
  },
  {
   "cell_type": "code",
   "execution_count": 44,
   "metadata": {
    "scrolled": true
   },
   "outputs": [
    {
     "name": "stdout",
     "output_type": "stream",
     "text": [
      "jumlah viewnya :  8,404\n",
      "jumlah viewnya :  89,923\n",
      "jumlah viewnya :  44,232\n",
      "jumlah viewnya :  78,081\n",
      "jumlah viewnya :  27,446\n",
      "jumlah viewnya :  15,788\n",
      "jumlah viewnya :  20,504\n",
      "jumlah viewnya :  11,294\n",
      "jumlah viewnya :  224,378\n",
      "jumlah viewnya :  11,411\n",
      "jumlah viewnya :  15,890\n",
      "jumlah viewnya :  64,621\n",
      "jumlah viewnya :  3,104\n",
      "jumlah viewnya :  22,829\n",
      "jumlah viewnya :  18,830\n",
      "jumlah viewnya :  19,023\n",
      "jumlah viewnya :  15,231\n",
      "jumlah viewnya :  56,457\n",
      "jumlah viewnya :  17,266\n",
      "jumlah viewnya :  28,871\n"
     ]
    }
   ],
   "source": [
    "#dapetin jumlah view\n",
    "for i in soup.find_all(class_='fa fa-eye'):\n",
    "        print (\"jumlah viewnya : \"+str(i.next_sibling)) #london, york"
   ]
  },
  {
   "cell_type": "code",
   "execution_count": 5,
   "metadata": {
    "scrolled": false
   },
   "outputs": [],
   "source": [
    "# int(soup.find('li',{'class':'page-count'}).get_text().replace('Page 1 of ',''))"
   ]
  },
  {
   "cell_type": "code",
   "execution_count": 6,
   "metadata": {
    "scrolled": true
   },
   "outputs": [],
   "source": [
    "# soup"
   ]
  },
  {
   "cell_type": "code",
   "execution_count": 92,
   "metadata": {},
   "outputs": [],
   "source": [
    "def listSearchKaskus(keyword):\n",
    "    x = 1\n",
    "    url = 'https://www.kaskus.co.id/search/forum?q='\n",
    "    response = requests.get(url+keyword.replace(' ','+'))\n",
    "    html = response.text\n",
    "    soup = BeautifulSoup(html,'html5lib')\n",
    "    if soup.find('li',{'class':'page-count'}):\n",
    "        lastPage = int(soup.find('li',{'class':'page-count'}).get_text().replace('Page 1 of ',''))\n",
    "        while x <= lastPage:\n",
    "            url2 = url+keyword.replace(' ','+')+'&sort=popular&order=desc&page='+str(x)\n",
    "            #link url berhasil didapat\n",
    "            print('            '+url2)\n",
    "            print(\"          \"+str(soup.find(\"div\", class_=\"author\").next_element.next_element.next_element))\n",
    "            #kodingan selanjutnya disini\n",
    "            x = x+1"
   ]
  },
  {
   "cell_type": "code",
   "execution_count": 94,
   "metadata": {
    "scrolled": false
   },
   "outputs": [
    {
     "name": "stdout",
     "output_type": "stream",
     "text": [
      "            https://www.kaskus.co.id/search/forum?q=Mobil+baru&sort=popular&order=desc&page=1\n",
      "          tafakoer\n",
      "            https://www.kaskus.co.id/search/forum?q=Mobil+baru&sort=popular&order=desc&page=2\n",
      "          tafakoer\n",
      "            https://www.kaskus.co.id/search/forum?q=Mobil+baru&sort=popular&order=desc&page=3\n",
      "          tafakoer\n",
      "            https://www.kaskus.co.id/search/forum?q=Mobil+baru&sort=popular&order=desc&page=4\n",
      "          tafakoer\n",
      "            https://www.kaskus.co.id/search/forum?q=Mobil+baru&sort=popular&order=desc&page=5\n",
      "          tafakoer\n",
      "            https://www.kaskus.co.id/search/forum?q=Mobil+baru&sort=popular&order=desc&page=6\n",
      "          tafakoer\n",
      "            https://www.kaskus.co.id/search/forum?q=Mobil+baru&sort=popular&order=desc&page=7\n",
      "          tafakoer\n",
      "            https://www.kaskus.co.id/search/forum?q=Mobil+baru&sort=popular&order=desc&page=8\n",
      "          tafakoer\n",
      "            https://www.kaskus.co.id/search/forum?q=Mobil+baru&sort=popular&order=desc&page=9\n",
      "          tafakoer\n",
      "            https://www.kaskus.co.id/search/forum?q=Mobil+baru&sort=popular&order=desc&page=10\n",
      "          tafakoer\n",
      "            https://www.kaskus.co.id/search/forum?q=Mobil+baru&sort=popular&order=desc&page=11\n",
      "          tafakoer\n",
      "            https://www.kaskus.co.id/search/forum?q=Mobil+baru&sort=popular&order=desc&page=12\n",
      "          tafakoer\n",
      "            https://www.kaskus.co.id/search/forum?q=Mobil+baru&sort=popular&order=desc&page=13\n",
      "          tafakoer\n",
      "            https://www.kaskus.co.id/search/forum?q=Mobil+baru&sort=popular&order=desc&page=14\n",
      "          tafakoer\n",
      "            https://www.kaskus.co.id/search/forum?q=Mobil+baru&sort=popular&order=desc&page=15\n",
      "          tafakoer\n",
      "            https://www.kaskus.co.id/search/forum?q=Mobil+baru&sort=popular&order=desc&page=16\n",
      "          tafakoer\n",
      "            https://www.kaskus.co.id/search/forum?q=Mobil+baru&sort=popular&order=desc&page=17\n",
      "          tafakoer\n",
      "            https://www.kaskus.co.id/search/forum?q=Mobil+baru&sort=popular&order=desc&page=18\n",
      "          tafakoer\n",
      "            https://www.kaskus.co.id/search/forum?q=Mobil+baru&sort=popular&order=desc&page=19\n",
      "          tafakoer\n",
      "            https://www.kaskus.co.id/search/forum?q=Mobil+baru&sort=popular&order=desc&page=20\n",
      "          tafakoer\n",
      "            https://www.kaskus.co.id/search/forum?q=Mobil+baru&sort=popular&order=desc&page=21\n",
      "          tafakoer\n",
      "            https://www.kaskus.co.id/search/forum?q=Mobil+baru&sort=popular&order=desc&page=22\n",
      "          tafakoer\n",
      "            https://www.kaskus.co.id/search/forum?q=Mobil+baru&sort=popular&order=desc&page=23\n",
      "          tafakoer\n",
      "            https://www.kaskus.co.id/search/forum?q=Mobil+baru&sort=popular&order=desc&page=24\n",
      "          tafakoer\n"
     ]
    }
   ],
   "source": [
    "listSearchKaskus('Mobil baru')"
   ]
  },
  {
   "cell_type": "code",
   "execution_count": null,
   "metadata": {},
   "outputs": [],
   "source": [
    "astradigital = 'astra '+'digital'\n",
    "astradigital.split(' ')"
   ]
  }
 ],
 "metadata": {
  "kernelspec": {
   "display_name": "Python 3",
   "language": "python",
   "name": "python3"
  },
  "language_info": {
   "codemirror_mode": {
    "name": "ipython",
    "version": 3
   },
   "file_extension": ".py",
   "mimetype": "text/x-python",
   "name": "python",
   "nbconvert_exporter": "python",
   "pygments_lexer": "ipython3",
   "version": "3.6.4"
  }
 },
 "nbformat": 4,
 "nbformat_minor": 2
}
