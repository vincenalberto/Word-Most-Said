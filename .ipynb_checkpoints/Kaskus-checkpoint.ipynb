{
 "cells": [
  {
   "cell_type": "code",
   "execution_count": 1,
   "metadata": {},
   "outputs": [],
   "source": [
    "from bs4 import BeautifulSoup"
   ]
  },
  {
   "cell_type": "code",
   "execution_count": 2,
   "metadata": {},
   "outputs": [],
   "source": [
    "import pandas as pd\n",
    "import numpy as np"
   ]
  },
  {
   "cell_type": "code",
   "execution_count": 3,
   "metadata": {},
   "outputs": [],
   "source": [
    "import requests\n",
    "from bs4 import BeautifulSoup\n",
    "from selenium import webdriver"
   ]
  },
  {
   "cell_type": "code",
   "execution_count": 4,
   "metadata": {},
   "outputs": [],
   "source": [
    "driver = webdriver.Chrome('C:/Users/vincen059390/Downloads/chromedriver.exe')\n"
   ]
  },
  {
   "cell_type": "code",
   "execution_count": 13,
   "metadata": {},
   "outputs": [],
   "source": [
    "url = 'https://www.kaskus.co.id/search/forum?q=mobil+baru&sort=popular&order=desc&page=1'\n",
    "response = requests.get(url)\n",
    "html = response.text\n",
    "soup = BeautifulSoup(html,'html5lib')"
   ]
  },
  {
   "cell_type": "code",
   "execution_count": 5,
   "metadata": {
    "scrolled": false
   },
   "outputs": [],
   "source": [
    "# int(soup.find('li',{'class':'page-count'}).get_text().replace('Page 1 of ',''))"
   ]
  },
  {
   "cell_type": "code",
   "execution_count": 6,
   "metadata": {
    "scrolled": true
   },
   "outputs": [],
   "source": [
    "# soup"
   ]
  },
  {
   "cell_type": "code",
   "execution_count": 47,
   "metadata": {},
   "outputs": [],
   "source": [
    "def listSearchKaskus(keyword):\n",
    "    x = 1\n",
    "    url = 'https://www.kaskus.co.id/search/forum?q='\n",
    "    response = requests.get(url+keyword.replace(' ','+'))\n",
    "    html = response.text\n",
    "    soup = BeautifulSoup(html,'html5lib')\n",
    "    if soup.find('li',{'class':'page-count'}):\n",
    "        lastPage = int(soup.find('li',{'class':'page-count'}).get_text().replace('Page 1 of ',''))\n",
    "        while x <= lastPage:\n",
    "            url2 = url+keyword.replace(' ','+')+'&sort=popular&order=desc&page='+str(x)\n",
    "            #link url berhasil didapat\n",
    "            print('            '+url2)\n",
    "            #kodingan selanjutnya disini\n",
    "            x = x+1"
   ]
  },
  {
   "cell_type": "code",
   "execution_count": 49,
   "metadata": {
    "scrolled": false
   },
   "outputs": [
    {
     "name": "stdout",
     "output_type": "stream",
     "text": [
      "            https://www.kaskus.co.id/search/forum?q=Toyota&sort=popular&order=desc&page=1\n",
      "            https://www.kaskus.co.id/search/forum?q=Toyota&sort=popular&order=desc&page=2\n",
      "            https://www.kaskus.co.id/search/forum?q=Toyota&sort=popular&order=desc&page=3\n",
      "            https://www.kaskus.co.id/search/forum?q=Toyota&sort=popular&order=desc&page=4\n",
      "            https://www.kaskus.co.id/search/forum?q=Toyota&sort=popular&order=desc&page=5\n",
      "            https://www.kaskus.co.id/search/forum?q=Toyota&sort=popular&order=desc&page=6\n",
      "            https://www.kaskus.co.id/search/forum?q=Toyota&sort=popular&order=desc&page=7\n",
      "            https://www.kaskus.co.id/search/forum?q=Toyota&sort=popular&order=desc&page=8\n",
      "            https://www.kaskus.co.id/search/forum?q=Toyota&sort=popular&order=desc&page=9\n",
      "            https://www.kaskus.co.id/search/forum?q=Toyota&sort=popular&order=desc&page=10\n",
      "            https://www.kaskus.co.id/search/forum?q=Toyota&sort=popular&order=desc&page=11\n",
      "            https://www.kaskus.co.id/search/forum?q=Toyota&sort=popular&order=desc&page=12\n",
      "            https://www.kaskus.co.id/search/forum?q=Toyota&sort=popular&order=desc&page=13\n",
      "            https://www.kaskus.co.id/search/forum?q=Toyota&sort=popular&order=desc&page=14\n",
      "            https://www.kaskus.co.id/search/forum?q=Toyota&sort=popular&order=desc&page=15\n",
      "            https://www.kaskus.co.id/search/forum?q=Toyota&sort=popular&order=desc&page=16\n",
      "            https://www.kaskus.co.id/search/forum?q=Toyota&sort=popular&order=desc&page=17\n",
      "            https://www.kaskus.co.id/search/forum?q=Toyota&sort=popular&order=desc&page=18\n",
      "            https://www.kaskus.co.id/search/forum?q=Toyota&sort=popular&order=desc&page=19\n",
      "            https://www.kaskus.co.id/search/forum?q=Toyota&sort=popular&order=desc&page=20\n",
      "            https://www.kaskus.co.id/search/forum?q=Toyota&sort=popular&order=desc&page=21\n",
      "            https://www.kaskus.co.id/search/forum?q=Toyota&sort=popular&order=desc&page=22\n",
      "            https://www.kaskus.co.id/search/forum?q=Toyota&sort=popular&order=desc&page=23\n",
      "            https://www.kaskus.co.id/search/forum?q=Toyota&sort=popular&order=desc&page=24\n",
      "            https://www.kaskus.co.id/search/forum?q=Toyota&sort=popular&order=desc&page=25\n",
      "            https://www.kaskus.co.id/search/forum?q=Toyota&sort=popular&order=desc&page=26\n",
      "            https://www.kaskus.co.id/search/forum?q=Toyota&sort=popular&order=desc&page=27\n",
      "            https://www.kaskus.co.id/search/forum?q=Toyota&sort=popular&order=desc&page=28\n",
      "            https://www.kaskus.co.id/search/forum?q=Toyota&sort=popular&order=desc&page=29\n",
      "            https://www.kaskus.co.id/search/forum?q=Toyota&sort=popular&order=desc&page=30\n",
      "            https://www.kaskus.co.id/search/forum?q=Toyota&sort=popular&order=desc&page=31\n",
      "            https://www.kaskus.co.id/search/forum?q=Toyota&sort=popular&order=desc&page=32\n",
      "            https://www.kaskus.co.id/search/forum?q=Toyota&sort=popular&order=desc&page=33\n",
      "            https://www.kaskus.co.id/search/forum?q=Toyota&sort=popular&order=desc&page=34\n",
      "            https://www.kaskus.co.id/search/forum?q=Toyota&sort=popular&order=desc&page=35\n",
      "            https://www.kaskus.co.id/search/forum?q=Toyota&sort=popular&order=desc&page=36\n",
      "            https://www.kaskus.co.id/search/forum?q=Toyota&sort=popular&order=desc&page=37\n",
      "            https://www.kaskus.co.id/search/forum?q=Toyota&sort=popular&order=desc&page=38\n",
      "            https://www.kaskus.co.id/search/forum?q=Toyota&sort=popular&order=desc&page=39\n",
      "            https://www.kaskus.co.id/search/forum?q=Toyota&sort=popular&order=desc&page=40\n",
      "            https://www.kaskus.co.id/search/forum?q=Toyota&sort=popular&order=desc&page=41\n",
      "            https://www.kaskus.co.id/search/forum?q=Toyota&sort=popular&order=desc&page=42\n",
      "            https://www.kaskus.co.id/search/forum?q=Toyota&sort=popular&order=desc&page=43\n",
      "            https://www.kaskus.co.id/search/forum?q=Toyota&sort=popular&order=desc&page=44\n",
      "            https://www.kaskus.co.id/search/forum?q=Toyota&sort=popular&order=desc&page=45\n",
      "            https://www.kaskus.co.id/search/forum?q=Toyota&sort=popular&order=desc&page=46\n",
      "            https://www.kaskus.co.id/search/forum?q=Toyota&sort=popular&order=desc&page=47\n",
      "            https://www.kaskus.co.id/search/forum?q=Toyota&sort=popular&order=desc&page=48\n",
      "            https://www.kaskus.co.id/search/forum?q=Toyota&sort=popular&order=desc&page=49\n",
      "            https://www.kaskus.co.id/search/forum?q=Toyota&sort=popular&order=desc&page=50\n"
     ]
    }
   ],
   "source": [
    "listSearchKaskus('Toyota')"
   ]
  },
  {
   "cell_type": "code",
   "execution_count": null,
   "metadata": {},
   "outputs": [],
   "source": [
    "astradigital = 'astra '+'digital'\n",
    "astradigital.split(' ')"
   ]
  }
 ],
 "metadata": {
  "kernelspec": {
   "display_name": "Python 3",
   "language": "python",
   "name": "python3"
  },
  "language_info": {
   "codemirror_mode": {
    "name": "ipython",
    "version": 3
   },
   "file_extension": ".py",
   "mimetype": "text/x-python",
   "name": "python",
   "nbconvert_exporter": "python",
   "pygments_lexer": "ipython3",
   "version": "3.6.4"
  }
 },
 "nbformat": 4,
 "nbformat_minor": 2
}
