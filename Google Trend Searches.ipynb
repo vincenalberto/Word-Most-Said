{
 "cells": [
  {
   "cell_type": "markdown",
   "metadata": {},
   "source": [
    "# BeautifulSoup XML"
   ]
  },
  {
   "cell_type": "code",
   "execution_count": 151,
   "metadata": {},
   "outputs": [],
   "source": [
    "import requests\n",
    "from bs4 import BeautifulSoup\n",
    "from selenium import webdriver\n",
    "import requests\n",
    "from requests.exceptions import ConnectionError\n",
    "from selenium.webdriver.chrome.options import Options\n",
    "import re\n",
    "import pandas as pd\n",
    "import numpy as np\n",
    "from bs4 import BeautifulSoup"
   ]
  },
  {
   "cell_type": "code",
   "execution_count": 152,
   "metadata": {},
   "outputs": [],
   "source": [
    "url = 'https://trends.google.com/trends/trendingsearches/daily/rss?geo=ID'\n",
    "response = requests.get(url)\n",
    "xml = response.text\n",
    "soup = BeautifulSoup(xml,'xml')"
   ]
  },
  {
   "cell_type": "code",
   "execution_count": 153,
   "metadata": {},
   "outputs": [
    {
     "name": "stdout",
     "output_type": "stream",
     "text": [
      "Jumlah Search : Wed, 21 Nov 2018 10:00:00 +0700\n",
      "Jumlah Search : Wed, 21 Nov 2018 08:00:00 +0700\n",
      "Jumlah Search : Wed, 21 Nov 2018 11:00:00 +0700\n",
      "Jumlah Search : Wed, 21 Nov 2018 06:00:00 +0700\n",
      "Jumlah Search : Wed, 21 Nov 2018 08:00:00 +0700\n",
      "Jumlah Search : Wed, 21 Nov 2018 09:00:00 +0700\n",
      "Jumlah Search : Wed, 21 Nov 2018 11:00:00 +0700\n",
      "Jumlah Search : Wed, 21 Nov 2018 01:00:00 +0700\n",
      "Jumlah Search : Tue, 20 Nov 2018 16:00:00 +0700\n",
      "Jumlah Search : Tue, 20 Nov 2018 12:00:00 +0700\n",
      "Jumlah Search : Tue, 20 Nov 2018 13:00:00 +0700\n",
      "Jumlah Search : Tue, 20 Nov 2018 15:00:00 +0700\n",
      "Jumlah Search : Tue, 20 Nov 2018 20:00:00 +0700\n",
      "Jumlah Search : Tue, 20 Nov 2018 08:00:00 +0700\n",
      "Jumlah Search : Tue, 20 Nov 2018 13:00:00 +0700\n",
      "Jumlah Search : Tue, 20 Nov 2018 11:00:00 +0700\n",
      "Jumlah Search : Tue, 20 Nov 2018 23:00:00 +0700\n",
      "Jumlah Search : Tue, 20 Nov 2018 20:00:00 +0700\n",
      "Jumlah Search : Tue, 20 Nov 2018 23:00:00 +0700\n",
      "Jumlah Search : Tue, 20 Nov 2018 07:00:00 +0700\n"
     ]
    }
   ],
   "source": [
    "#dapetin jumlah search\n",
    "x = 0\n",
    "for div in soup.find_all('pubDate'):\n",
    "    print (\"Jumlah Search : \"+div.string)\n"
   ]
  },
  {
   "cell_type": "code",
   "execution_count": 154,
   "metadata": {},
   "outputs": [
    {
     "name": "stdout",
     "output_type": "stream",
     "text": [
      "Keywordnya : Gading Marten\n",
      "Keywordnya : Argentina Vs Meksiko\n",
      "Keywordnya : Ciktuti Iin Puspita\n",
      "Keywordnya : Portugal vs Polandia\n",
      "Keywordnya : Brasil Vs Kamerun\n",
      "Keywordnya : Deddy Corbuzier\n",
      "Keywordnya : Perancis Vs Uruguay\n",
      "Keywordnya : Lone Survivor\n",
      "Keywordnya : Reino Barack\n",
      "Keywordnya : Robin Hood 2018\n",
      "Keywordnya : Indonesia vs Filipina 2018\n",
      "Keywordnya : Sabrina Chairunnisa\n",
      "Keywordnya : Ratna Galih\n",
      "Keywordnya : Hasil Liga 2\n",
      "Keywordnya : Fiki Alman Angel Lelga\n",
      "Keywordnya : Shalawat Nabi\n",
      "Keywordnya : American Sniper\n",
      "Keywordnya : Myanmar vs Vietnam\n",
      "Keywordnya : Atta Halilintar\n",
      "Keywordnya : Passing Grade SKD CPNS Kemenkumham\n"
     ]
    }
   ],
   "source": [
    "#dapetin keyword\n",
    "x = 0\n",
    "for div in soup.find_all('title'):\n",
    "    if x == 0:\n",
    "#         print (\"Judulnya : \"+div.string)\n",
    "        x = x + 1\n",
    "    else:\n",
    "        print (\"Keywordnya : \"+div.string)\n"
   ]
  },
  {
   "cell_type": "code",
   "execution_count": 155,
   "metadata": {},
   "outputs": [
    {
     "name": "stdout",
     "output_type": "stream",
     "text": [
      "Jumlah Search : 100,000+\n",
      "Jumlah Search : 10,000+\n",
      "Jumlah Search : 10,000+\n",
      "Jumlah Search : 10,000+\n",
      "Jumlah Search : 5,000+\n",
      "Jumlah Search : 5,000+\n",
      "Jumlah Search : 5,000+\n",
      "Jumlah Search : 5,000+\n",
      "Jumlah Search : 50,000+\n",
      "Jumlah Search : 20,000+\n",
      "Jumlah Search : 20,000+\n",
      "Jumlah Search : 20,000+\n",
      "Jumlah Search : 10,000+\n",
      "Jumlah Search : 10,000+\n",
      "Jumlah Search : 10,000+\n",
      "Jumlah Search : 10,000+\n",
      "Jumlah Search : 10,000+\n",
      "Jumlah Search : 10,000+\n",
      "Jumlah Search : 5,000+\n",
      "Jumlah Search : 5,000+\n"
     ]
    }
   ],
   "source": [
    "#dapetin jumlah search\n",
    "x = 0\n",
    "for div in soup.find_all('ht:approx_traffic'):\n",
    "    print (\"Jumlah Search : \"+div.string)\n"
   ]
  },
  {
   "cell_type": "code",
   "execution_count": 156,
   "metadata": {},
   "outputs": [
    {
     "name": "stdout",
     "output_type": "stream",
     "text": [
      "description : Recent searches\n",
      "description : gisel dan gading cerai, gisel gugat cerai, Gisel, Gisella Anastasia, gisel cerai, gading dan gisel cerai, gading gisel cerai, gisel gading, gading marten cerai, gisel gading cerai, gading gisel\n",
      "description : None\n",
      "description : Mayat Dalam Lemari\n",
      "description : None\n",
      "description : None\n",
      "description : None\n",
      "description : None\n",
      "description : None\n",
      "description : Luna Maya, syahrini reino barack\n",
      "description : robin hood, taron egerton\n",
      "description : jadwal indonesia vs filipina, jadwal indonesia aff suzuki cup 2018\n",
      "description : None\n",
      "description : None\n",
      "description : Semen\n",
      "description : None\n",
      "description : Shalawat\n",
      "description : None\n",
      "description : None\n",
      "description : None\n",
      "description : None\n"
     ]
    }
   ],
   "source": [
    "#dapetin jumlah search\n",
    "for div in soup.find_all('description'):\n",
    "    try:\n",
    "        print (\"description : \"+div.string)        \n",
    "    except:\n",
    "        print (\"description : None\")    "
   ]
  },
  {
   "cell_type": "code",
   "execution_count": 157,
   "metadata": {},
   "outputs": [
    {
     "name": "stdout",
     "output_type": "stream",
     "text": [
      "description : Isu Perceraian, 10 Potret Perjalanan Cinta <b>Gading Marten</b> dan Gisella\n",
      "description : Gisella Anastasia Gugat Cerai <b>Gading Marten</b>, Adegan di Film ...\n",
      "description : <b>Argentina Vs Meksiko</b>, Icardi &amp; Dybala Cetak Gol Perdana\n",
      "description : Hasil Pertandingan: <b>Argentina</b> 2-0 <b>Meksiko</b>\n",
      "description : 7 Fakta Mayat Dalam Lemari yang Tercium Bau Busuk: Profesi ...\n",
      "description : Siapakah <b>Ciktuti Iin Puspita</b> yang Ditemukan Wahyu? Kronologi ...\n",
      "description : <b>Portugal vs Polandia</b>: Imbang 1-1\n",
      "description : <b>Portugal vs Polandia</b> : Meski Imbang Portugal Cetak Sejarah Tanpa ...\n",
      "description : <b>Brasil Vs Kamerun</b>, Neymar Tidak Cedera Parah\n",
      "description : <b>Brasil vs Kamerun</b>: Neymar Ditandu ke Luar Lapangan\n",
      "description : Ulang Tahun ke-26, 10 Potret Sabrina Chairunnisa Pacar <b>Deddy</b> ...\n",
      "description : 4 Fakta Sabrina Chairunnisa, Tunangan <b>Deddy Corbuzier</b> yang ...\n",
      "description : <b>Perancis Vs Uruguay</b>, Harga Mahal Kemenangan Les Bleus\n",
      "description : <b>Perancis Vs Uruguay</b> - Kylian Mbappe Cedera Bahu, Skor ...\n",
      "description : Sinopsis Film <b>Lone Survivor</b>, Tayang di Bioskop Trans TV Pukul ...\n",
      "description : Luna Maya Sempat Sindir Teman Makan Teman, <b>Reino Barack</b> Puji Syahrini Karena Hal Ini\n",
      "description : Kabar <b>Reino Barack</b> dan Syahrini Menikah Terus Bergulir, Kartika Putri Bocorkan Rahasia Ini\n",
      "description : Sinopsis &#39;<b>ROBIN HOOD</b>&#39; <b>2018</b>, Lawan Tirani Inggris Untuk Rakyat\n",
      "description : <b>Robin Hood 2018</b> : Aksi Taron Egerton dan Peran Leonardo DiCaprio\n",
      "description : Klasemen Grup B Piala AFF <b>2018</b>, Pertandingan Timnas <b>Indonesia</b> ...\n",
      "description : Jadwal Timnas <b>Indonesia vs Filipina</b> di Piala AFF <b>2018</b>\n",
      "description : 4 Fakta <b>Sabrina Chairunnisa</b>, Tunangan Deddy Corbuzier yang ...\n",
      "description : Setelah Dibuat Kesal, <b>Sabrina Chairunnisa</b> Dilamar Deddy Corbuzier\n",
      "description : <b>Ratna Galih</b> Awalnya Dikabarkan Sakit, Dokter Kandungan Justru ...\n",
      "description : Awalnya Dikira Hamil karena Perut Membesar, <b>Ratna Galih</b> ...\n",
      "description : <b>Hasil Liga 2</b>: Semen Padang Kalahkan Kalteng Putra 3-1 Loloskan ...\n",
      "description : <b>Hasil</b> Akhir <b>Liga 2</b> 2018 Semen Padang Kalahkan Kalteng Putra 3-1\n",
      "description : Kronologi Penggerebekan Versi Kuasa Hukum <b>Angel Lelga</b>, <b>Fiki</b> ...\n",
      "description : Bantah Tuduhan Perzinaan, Kuasa Hukum <b>Angel Lelga</b> Ungkap ...\n",
      "description : Pandu Ibu-Ibu Baca <b>Shalawat</b> di Peringatan Maulid <b>Nabi</b> 2018 ...\n",
      "description : Amalan Vivi Suhartini Sebelum Meninggal saat Lomba <b>Shalawat</b> ...\n",
      "description : Sinopsis Film <b>American Sniper</b>, Tayang di Bioskop Trans TV Malam Ini Pukul 21.00 WIB\n",
      "description : Sinopsis Film <b>American Sniper</b>, Link Live Streaming Trans TV Mulai 21.00 WIB, Sniper Paling Ditakuti\n",
      "description : Live Score Piala AFF 2018 Grup A, <b>Myanmar vs Vietnam</b>, Selasa (20 ...\n",
      "description : SEDANG BERLANGSUNG! Live K-Vision! Live Streaming <b>Myanmar</b> ...\n",
      "description : Ulang Tahun, <b>Atta Halilintar</b> Justru Dibuat Lemas dan Gemetaran ...\n",
      "description : Inilah Keseruan &#39;Surprise&#39; Ulang Tahun <b>Atta Halilintar</b> yang Dihadiri ...\n",
      "description : <b>Passing Grade SKD CPNS Kemenkumham</b>, Pengumuman Hasil ...\n",
      "description : <b>Passing Grade SKD CPNS, Kemenkumham</b> Tunda Pengumuman ...\n"
     ]
    }
   ],
   "source": [
    "#dapetin jumlah search\n",
    "for div in soup.find_all('ht:news_item_title'):\n",
    "    try:\n",
    "        print (\"description : \"+div.get_text())        \n",
    "    except:\n",
    "        print (\"description : None\")    "
   ]
  },
  {
   "cell_type": "code",
   "execution_count": 158,
   "metadata": {},
   "outputs": [
    {
     "name": "stdout",
     "output_type": "stream",
     "text": [
      "Linknya : https://www.idntimes.com/hype/entertainment/sita-amalia/isu-perceraian-10-potret-perjalanan-cinta-gading-marten-dan-gisella\n",
      "Linknya : http://www.tribunnews.com/section/2018/11/21/gisella-anastasia-gugat-cerai-gading-marten-adegan-di-film-susah-sinyal-jadi-nyata\n",
      "Linknya : https://bola.kompas.com/read/2018/11/21/09281488/argentina-vs-meksiko-icardi-dybala-cetak-gol-perdana\n",
      "Linknya : https://www.goal.com/id/pertandingan/argentina-v-meksiko/9rsi8354cjzfbafvwle6nsacq\n",
      "Linknya : http://makassar.tribunnews.com/2018/11/21/7-fakta-mayat-dalam-lemari-yang-tercium-bau-busuk-profesi-korban-pengusiran-tamu-misterius\n",
      "Linknya : http://jambi.tribunnews.com/2018/11/21/siapakah-ciktuti-iin-puspita-yang-ditemukan-wahyu-kronologi-penemuan-mayat-dalam-lemari\n",
      "Linknya : http://www.tribunnews.com/superskor/2018/11/21/portugal-vs-polandia-imbang-1-1\n",
      "Linknya : http://jateng.tribunnews.com/2018/11/21/portugal-vs-polandia-meski-imbang-portugal-cetak-sejarah-tanpa-ronaldo\n",
      "Linknya : https://bola.kompas.com/read/2018/11/21/07231548/brasil-vs-kamerun-neymar-tidak-cedera-parah\n",
      "Linknya : http://jateng.tribunnews.com/2018/11/21/brasil-vs-kamerun-neymar-ditandu-ke-luar-lapangan\n",
      "Linknya : https://www.idntimes.com/hype/entertainment/hilda-t/potret-sabrina-chairunnisa-pacar-deddy-corbuzier-yang-berulang-tahun-ke-26-c1c2\n",
      "Linknya : http://www.tribunnews.com/seleb/2018/11/21/4-fakta-sabrina-chairunnisa-tunangan-deddy-corbuzier-yang-sudah-lama-kalina-ocktaranny-dan-azka\n",
      "Linknya : https://bola.kompas.com/read/2018/11/21/08300028/perancis-vs-uruguay-harga-mahal-kemenangan-les-bleus\n",
      "Linknya : http://kaltim.tribunnews.com/2018/11/21/perancis-vs-uruguay-kylian-mbappe-cedera-bahu-skor-kacamata-di-babak-pertama\n",
      "Linknya : http://jateng.tribunnews.com/2018/11/21/sinopsis-film-lone-survivor-tayang-di-bioskop-trans-tv-pukul-2300-wib-kisah-nyata-navy-seal\n",
      "Linknya : http://bangka.tribunnews.com/2018/11/21/luna-maya-sempat-sindir-teman-makan-teman-reino-barack-puji-syahrini-karena-hal-ini\n",
      "Linknya : http://kaltim.tribunnews.com/2018/11/21/kabar-reino-barack-dan-syahrini-menikah-terus-bergulir-kartika-putri-bocorkan-rahasia-ini\n",
      "Linknya : https://www.kapanlagi.com/showbiz/film/internasional/sinopsis-robin-hood-2018-lawan-tirani-inggris-untuk-rakyat-cb4d12.html\n",
      "Linknya : http://jateng.tribunnews.com/2018/11/21/robin-hood-2018-aksi-taron-egerton-dan-peran-leonardo-dicaprio\n",
      "Linknya : http://banjarmasin.tribunnews.com/2018/11/20/klasemen-grup-b-piala-aff-2018-pertandingan-timnas-indonesia-vs-filipina-tak-menentukan\n",
      "Linknya : https://www.bola.net/tim_nasional/jadwal-timnas-indonesia-vs-filipina-di-piala-aff-2018-d80d96.html\n",
      "Linknya : http://www.tribunnews.com/seleb/2018/11/21/4-fakta-sabrina-chairunnisa-tunangan-deddy-corbuzier-yang-sudah-lama-kalina-ocktaranny-dan-azka\n",
      "Linknya : https://entertainment.kompas.com/read/2018/11/21/093716610/setelah-dibuat-kesal-sabrina-chairunnisa-dilamar-deddy-corbuzier\n",
      "Linknya : http://www.tribunnews.com/seleb/2018/11/21/ratna-galih-awalnya-dikabarkan-sakit-dokter-kandungan-justru-sebut-sang-artis-tengah-hamil\n",
      "Linknya : http://medan.tribunnews.com/2018/11/21/awalnya-dikira-hamil-karena-perut-membesar-ratna-galih-pesinetron-cinta-yang-hilang-minta-doa\n",
      "Linknya : http://jateng.tribunnews.com/2018/11/20/hasil-liga-2-2018-semen-padang-kalahkan-kalteng-putra-3-1-loloskan-ke-semifinal\n",
      "Linknya : http://www.tribunnews.com/section/2018/11/19/hasil-akhir-liga-2-2018-semen-padang-kalahkan-kalteng-putra-3-1\n",
      "Linknya : http://jabar.tribunnews.com/2018/11/21/kronologi-penggerebekan-versi-kuasa-hukum-angel-lelga-fiki-alman-sempat-pulang-lalu-datang-lagi\n",
      "Linknya : http://www.tribunnews.com/seleb/2018/11/20/bantah-tuduhan-perzinaan-kuasa-hukum-angel-lelga-ungkap-alasan-fiki-alman-berada-di-dalam-kamar\n",
      "Linknya : http://style.tribunnews.com/2018/11/20/pandu-ibu-ibu-baca-shalawat-di-peringatan-maulid-nabi-2018-wanita-ini-lemas-lalu-meninggal-dunia\n",
      "Linknya : http://batam.tribunnews.com/2018/11/20/amalan-vivi-suhartini-sebelum-meninggal-saat-lomba-shalawat-maulid-nabi\n",
      "Linknya : http://jateng.tribunnews.com/2018/11/20/sinopsis-film-american-sniper-tayang-di-bioskop-trans-tv-malam-ini-pukul-2100-wib\n",
      "Linknya : http://jambi.tribunnews.com/2018/11/20/sinopsis-film-american-sniper-link-live-streaming-trans-tv-mulai-2100-wib-sniper-paling-ditakuti\n",
      "Linknya : http://www.tribunnews.com/section/2018/11/20/live-score-piala-aff-2018-grup-a-myanmar-vs-vietnam-selasa-201118-pukul-1830-wib\n",
      "Linknya : http://banjarmasin.tribunnews.com/2018/11/20/sedang-berlangsung-live-k-vision-live-streaming-myanmar-vs-vietnam-via-vidiocom-piala-aff-2018\n",
      "Linknya : http://www.tribunnews.com/section/2018/11/21/ulang-tahun-atta-halilintar-justru-dibuat-lemas-dan-gemetaran-gara-gara-ini\n",
      "Linknya : https://m.jitunews.com/read/90533/inilah-keseruan-surprise-ulang-tahun-atta-halilintar-yang-dihadiri-fans-teman-artis-hingga-mantan\n",
      "Linknya : http://style.tribunnews.com/2018/11/20/passing-grade-skd-cpns-kemenkumham-pengumuman-hasil-skd-resmi-ditunda-ini-linknya\n",
      "Linknya : http://lampung.tribunnews.com/2018/11/20/passing-grade-skd-cpns-kemenkumham-tunda-pengumuman-hasil-tes-skd-cpns-2018\n"
     ]
    }
   ],
   "source": [
    "#dapetin jumlah search\n",
    "for div in soup.find_all('ht:news_item_url'):\n",
    "    try:\n",
    "        print (\"Linknya : \"+div.get_text())        \n",
    "    except:\n",
    "        print (\"description : None\")    \n"
   ]
  },
  {
   "cell_type": "code",
   "execution_count": 159,
   "metadata": {
    "scrolled": true
   },
   "outputs": [
    {
     "name": "stdout",
     "output_type": "stream",
     "text": [
      "Linknya : Kabar keretakan rumah tangga <b>Gading Marten</b> dan Gisella Anastasia membuat heboh netizen. Pasalnya, beberapa waktu terakhir renggangnya hubungan keduanya sudah menjadi desas-desus lantaran Gading dan Gisel semakin jarang mengunggah&nbsp;...\n",
      "Linknya : Di film itu, <b>Gading</b> berperan sebagai Marco dan disandingkan dengan istrinya sendiri, Gisella yang berperan sebagai Cassandra. Dalam film arahan Ernest ini, Marco Dan Cassandra adalah pasangan selebritis yang hendak bercerai. &quot;Walaupun dia bukan&nbsp;...\n",
      "Linknya : Hingga laga berakhir, skor 2-0 bertahan untuk keunggulan <b>Argentina</b> atas <b>Meksiko</b>. <b>Argentina</b> 2-0 <b>Meksiko</b> (Mauro Icardi 2&#39;, Paulo Dybala 87&#39;). Susunan pemain: <b>Argentina</b>: 23-Geronimo Rulli; 2-Gabriel Mercado, 13-Ramiro Funes Mori, 4-Walter Kannemann,&nbsp;...\n",
      "Linknya : Pada Sabtu (17/11) kemarin <b>Argentina</b> yang tidak diperkuat Lionel Messi sejatinya sudah bertemu <b>Meksiko</b> di Cordoba dan sanggup mengalahkan tim asal Amerika Utara itu berkat gol Ramiro Funes Mori dan bunuh diri Isaac Brizuela, tapi kemenangan&nbsp;...\n",
      "Linknya : Kos yang berada Jalan Mampangprapatan VIII Gang Senang Kompleks Bapenas RT 03 RW 01, Tegal Parang, Mampangprapatan, pada Selasa (20/11/2018), petang dihebohkan penemuan <b>Ciktuti Iin Puspita</b> (22) yang telah menjadi Mayat dalam Lemari.\n",
      "Linknya : TRIBUNJAMBI.COM - Pembantu rumah kos di Mampang Prapatan, Jakarta, Wahyu Rowandi, curiga. Dia mencium bau busuk dari sebuah kamar korban. Pada Selasa (21/11) siang, Wahyu bersama pembantu bernama Rofik saling bertanya. Mereka bingung&nbsp;...\n",
      "Linknya : TRIBUNNEWS.COM, LISABON - Timnas <b>Portugal</b> merampungkan kiprah di fase grup UEFA Nations League dengan memperpanjang rekor tak terkalahkan. Catatan itu diukir tanpa megabintang mereka, Cristiano Ronaldo. Timnas <b>Portugal</b> menjalani partai&nbsp;...\n",
      "Linknya : TRIBUNJATENG .COM, LISABON -- Duel <b>Portugal vs Polandia</b> berakhir imbang dan Timnas Portugal pun merampungkan kiprah di fase grup UEFA Nations League dengan memperpanjang rekor tak terkalahkan. Meskipun catatan itu diukir tanpa&nbsp;...\n",
      "Linknya : MILTON KEYNES, KOMPAS.com - Dokter Timnas <b>Brasil</b>, Rodrigo Lasmar, mengungkapkan bahwa Neymar tidak mengalami cedera yang parah setelah melakoni laga melawan <b>Kamerun</b> di Stadion MK, Buckinghamshire, Inggris, Selasa (20/11/2018) atau&nbsp;...\n",
      "Linknya : TRIBUNJATENG.COM - Laga <b>Brasil vs Kamerun</b> dalam laga persahabatan di Stadion MK, Milton Keynes, Selasa (20/11/2018) waktu setempat atau Rabu dini hari WIB, berhasil dimenangi Brazil dengan skor 1-0. Timnas Brasil memang tampil lebih&nbsp;...\n",
      "Linknya : 1. Sebelum dikenal sebagai pacar <b>Deddy Corbuzier</b>, Sabrina Chairunnisa adalah 3rd Runner Up Putri Indonesia 2011. Ulang Tahun ke-26, 10 Potret Sabrina Chairunnisa Pacar <b>Deddy Corbuzier</b> instagram.com/sabrinachairunnisa_&nbsp;...\n",
      "Linknya : Hanya ditemani oleh sang kekasih, <b>Deddy Corbuzier</b>, Sabrina merayakan ulang tahunnya jauh dari kata suasana mewah. Perayaan ulang tahunnya yang sederhana tersebut sempat dibagikan Sabrina melalui akun Instagramnya, @sabrinachairunnisa.\n",
      "Linknya : Namun, kemenangan itu harus dibayar mahal karena Kylian Mbappe mengalami cedera. Baca juga: Hasil <b>Prancis Vs Uruguay</b> - Gol Giroud Ulang Prestasi Les Bleus di Piala Dunia. Pelatih timnas Perancis, Didier Deschamps, menjelaskan Mbappe tidak&nbsp;...\n",
      "Linknya : <b>Perancis Vs Uruguay</b> - Kylian Mbappe Cedera Bahu, Skor Kacamata di Babak Pertama. TRIBUNKALTIM.CO -- Timnas Perancis bermain seri 0-0 dengan timnas Uruguay pada babak pertama laga persahabatan di Stade de France, Paris, Selasa&nbsp;...\n",
      "Linknya : <b>Lone Survivor</b> adalah film drama perang biografi yang dirilis tahun 2013 yang menceritakan misi pasukan elite Amerika Serikat di medan pertempuran di Afganistan. Ceritanya berdasarkan buku non-fiksi berjudul sama yang ditulis oleh Marcus Luttrell dan&nbsp;...\n",
      "Linknya : Penyanyi Syahrini akhir-akhir ini dikaitkan dengan <b>Reino Barack</b>, mantan kekasih Luna Maya. Kabar ini bergulir di media, pasalnya Syahrini dan Luna Maya merupakan teman dekat. Benarkah Syahrini punya hubungan spesial dengan <b>Reino Barack</b>?\n",
      "Linknya : Kabar <b>Reino Barack</b> dan Syahrini Menikah Terus Bergulir, Kartika Putri Bocorkan Rahasia Ini. TRIBUNKALTIM.CO -- Kabar <b>Reino Barack</b> dan Syahrini akan menikah di akhir tahun ini terus bergulir. Usai postingan Luna Maya yang viral &#39;Makan Teman Lagi&nbsp;...\n",
      "Linknya : Selain Taron Egerton yang mencuri hati banyak orang lewat KINGSMAN, <b>ROBIN HOOD</b> versi <b>2018</b> juga didukung aktor peraih Oscar, Jamie Foxx. Selain itu masih ada si ganteng dari seri FIFTY SHADES, Jamie Dornan, yang berperan sebagai Will Tillman.\n",
      "Linknya : TRIBUNJATENG.COM -- Film <b>Robin Hood 2018</b> mulai tayang di bioskop Indonesia hari ini Senin (20/11/2018) kemarin. Sinopsis Film yang dibintangi Taron Egerton ini sebelumnya berjudul Robin Hood: Origins. Film <b>Robin Hood 2018</b> digarap oleh sutradara&nbsp;...\n",
      "Linknya : BANJARMASINPOST.CO.ID - Timnas <b>Indonesia</b> berada di ujung tanduk dalam klasemen Grup B Piala AFF <b>2018</b> dan melawan <b>Filipina</b> di pertandingan selanjutnya bisa jadi tak berarti lagi. Sudah tiga kali bermain, Timnas <b>Indonesia</b> ada di posisi empat&nbsp;...\n",
      "Linknya : Bola.net - Timnas <b>Indonesia</b> akan menjalani pertandingan terakhir di penyisihan Grup B Piala AFF <b>2018</b> melawan timnas <b>Filipina</b>. Pertandingan ini akan digelar Minggu 25 November akhir pekan ini. Timnas <b>Indonesia</b> berada dalam situasi yang sulit. Dengan&nbsp;...\n",
      "Linknya : Hanya ditemani oleh sang kekasih, Deddy Corbuzier, <b>Sabrina</b> merayakan ulang tahunnya jauh dari kata suasana mewah. Perayaan ulang tahunnya yang sederhana tersebut sempat dibagikan <b>Sabrina</b> melalui akun Instagramnya, @sabrinachairunnisa.\n",
      "Linknya : JAKARTA, KOMPAS.com — Kabar bahagia datang dari pasangan presenter Deddy Corbuzier dan <b>Sabrina Chairunnisa</b>. Setelah merayakan ulang tahun Sabrina, Deddy melamar pujaan hatinya itu. Sabrina pun mengungkapkan kesediaannya menjadi istri&nbsp;...\n",
      "Linknya : Dalam sebuah postingan di akun Instagramnya di @<b>ratnagalih</b>, pemain Mira di sinetron Cinta yang Hilang tersebut mengatakan bahwa dirinya tidak sedang hamil. Hal tersebut ditulisnya dalam kolom caption sebuah postingan foto yang diunggah mantan&nbsp;...\n",
      "Linknya : TRIBUN-MEDAN.COM - Sosok Mira tak kunjung muncul di sinetron Cinta yang Hilang yang tayang di RCTI hingga Minggu (18/11/2018). Hal ini disebabkan karena <b>Ratna Galih</b>, sang pemeran Mira di sinetron tersilet tahun 2018 kini tengah sakit yang&nbsp;...\n",
      "Linknya : TRIBUNJATENG.COM - <b>Hasil Liga 2</b>, Semen Padang mengalahkan Kalteng Putra pada Senin (19/11/2018) sore. Semen Padang FC mengalahkan tim tamu Kalteng Putra 3-1 dalam laga Babak 8 Besar Liga 2 2018 Grup A. Dengan <b>hasil Liga 2</b> ini Semen&nbsp;...\n",
      "Linknya : TRIBUNNEWS.COM - <b>Hasil</b> akhir lanjutan <b>Liga 2</b> 2018, Semen Padang mengalahkan Kalteng Putra pada Senin (19/11/2018) sore. Semen Padang mengalahkan tim tamu Kalteng Putra 3-1 dalam laga Babak 8 Besar <b>Liga 2</b> 2018 Grup A.Dengan <b>hasil</b> ini&nbsp;...\n",
      "Linknya : ID - Kuasa hukum <b>Angel Lelga</b>, I Nyoman Adi Peri, menceritakan kronologi versi pihaknya mengenai penggerebekan yang dilakukan Vicky Prasetyo, Senin (19/11/2018) dini hari. Kronologi penggerebekan itu sekaligus menjelaskan asal mula <b>Fiki Alman</b> bisa&nbsp;...\n",
      "Linknya : Kejadian pada Senin (19/11/2018) dini hari ini dilakukan Vicky untuk membuktikan kecurigaannya bahwa <b>Angel</b> berselingkuh dan berada dalam kamar bersama lelaki bernama <b>Fiki Alman</b>, seorang artis yang sempat beradu peran bersama <b>Angel</b> di sebuah&nbsp;...\n",
      "Linknya : Vivi merupakan pemimpin grup shalawatan di acara peringatan Maulid <b>Nabi</b> Muhammad SAW dalam video tersebut. Saat itu grup <b>shalawat</b> yang dipimpin Vivi sedang tampil dalam Lomba Shalawatan di Masjid Darul Gufron, Sagulung. Di tengah pentas&nbsp;...\n",
      "Linknya : TRIBUNBATAM.id - Vivi Suhartini (46) meninggal saat memimpin tim mengikuti lomba <b>shalawat</b> peringatan Maulid <b>Nabi</b> 2018 di Masjid Darul Gufron Sagulung, Selasa (20/11/2018), sekitar pukul 10.30 WIB. Banyak yang mendoakan agar Vivi Suhartini&nbsp;...\n",
      "Linknya : Film ini berdasarkan kisah memoir <b>American Sniper</b>: The Autobiography of the Most Lethal Sniper in U.S Military History, karya Chris Kyle bersama dengan Scott McEwen dan Jim DeFelice. <b>American Sniper</b> dipoduseri oleh Robert Lorenz, Andrew Lazar,&nbsp;...\n",
      "Linknya : Sinopsis Film <b>American Sniper</b> &amp; Live Streaming di Trans TV Mulai 21.00 WIB, Sniper Paling Ditakuti. TRIBUNJAMBI.COM - Film <b>American Sniper</b> menceritakan tentang Chris Kyle penembak jitu legendaris Amerika Serikat yang bertempur di Irak.\n",
      "Linknya : Posisi Myanmar dan Vietnam masih belum aman, mengingat Malaysia yang berada di posisi ketiga juga mengemas poin sama dengan Myanmar dan Vietnam yaitu 6 poin. Live Score <b>Myanmar vs Vietnam</b>. Live Score <b>Myanmar vs Vietnam</b>. Susunan Pemain :.\n",
      "Linknya : Pertandingan <b>Myanmar vs Vietnam</b> di Piala AFF 2018 disiarkan langsung dan live streaming Total Sports Blast 3 (TSB3) melalui K-vision. Namun, live streaming <b>Myanmar vs Vietnam</b> juga bisa diakses via Vidio.com melalui channel TSB3. Laga yang&nbsp;...\n",
      "Linknya : TRIBUNNEWS.COM - YouTuber sekaligus pengusaha muda, <b>Atta Halilintar</b> baru saja merayakan ulang tahun ke-24. Tim manajemen dan sahabatnya pun memberi pesta kejutan serta prank mobil BMW I8 kesayangan Atta, terlibat tabrakan. Momen ini&nbsp;...\n",
      "Linknya : COM - Siapa yang tidak mengenal <b>Atta Halilintar</b>? YouTuber sekaligus entrepreneur muda ini baru saja berulang tahun pada 20 November lalu. Memiliki jaringan pertemanan yang luas, di ulang tahun Atta yang ke-24 ini para sahabatnya berkumpul untuk&nbsp;...\n",
      "Linknya : TRIBUNSTYLE.COM - Pengumuman hasil Seleksi Kompetensi Dasar ( <b>SKD</b> ) Calon Pegawai Negeri Sipil (CPNS) 2018 Kemenkumham dipastikan ditunda. Melalui laman <b>cpns</b>.<b>kemenkumham</b>.go.id , diberitahukan info terkait Pengumuman penundaan&nbsp;...\n",
      "Linknya : TRIBUNLAMPUNG.CO.ID - Kemenkumham menunda pengumuman hasil Seleksi Kompetensi Dasar ( <b>SKD</b> ) Calon Pegawai Negeri Sipil (CPNS) 2018 Kemenkumham. Kepastikan ini disampaikan via laman <b>cpns</b>.<b>kemenkumham</b>.go.id , diberitahukan info&nbsp;...\n"
     ]
    }
   ],
   "source": [
    "#dapetin jumlah search\n",
    "for div in soup.find_all('ht:news_item_snippet'):\n",
    "    try:\n",
    "        print (\"Linknya : \"+div.get_text())        \n",
    "    except:\n",
    "        print (\"description : None\")    \n"
   ]
  },
  {
   "cell_type": "code",
   "execution_count": 160,
   "metadata": {},
   "outputs": [
    {
     "name": "stdout",
     "output_type": "stream",
     "text": [
      "Linknya : IDN Times (Siaran Pers) (Blog)\n",
      "Linknya : Tribunnews\n",
      "Linknya : KOMPAS.com\n",
      "Linknya : Goal.com\n",
      "Linknya : Tribun Timur\n",
      "Linknya : Tribun Jambi\n",
      "Linknya : Tribunnews\n",
      "Linknya : Tribun Jateng\n",
      "Linknya : KOMPAS.com\n",
      "Linknya : Tribun Jateng\n",
      "Linknya : IDN Times (Siaran Pers) (Blog)\n",
      "Linknya : Tribunnews\n",
      "Linknya : KOMPAS.com\n",
      "Linknya : Tribun Kaltim\n",
      "Linknya : Tribun Jateng\n",
      "Linknya : Bangka Pos\n",
      "Linknya : Tribun Kaltim\n",
      "Linknya : KapanLagi.com\n",
      "Linknya : Tribun Jateng\n",
      "Linknya : Banjarmasin Post\n",
      "Linknya : Bola.net\n",
      "Linknya : Tribunnews\n",
      "Linknya : KOMPAS.com\n",
      "Linknya : Tribunnews\n",
      "Linknya : Tribun Medan\n",
      "Linknya : Tribun Jateng\n",
      "Linknya : Tribunnews\n",
      "Linknya : Tribun Jabar\n",
      "Linknya : Tribunnews\n",
      "Linknya : Tribun Style\n",
      "Linknya : Tribun Batam\n",
      "Linknya : Tribun Jateng\n",
      "Linknya : Tribun Jambi\n",
      "Linknya : Tribunnews\n",
      "Linknya : Banjarmasin Post\n",
      "Linknya : Tribunnews\n",
      "Linknya : Berita Indonesia - JITUNEWS.COM\n",
      "Linknya : Tribun Style\n",
      "Linknya : Tribun Lampung\n"
     ]
    }
   ],
   "source": [
    "#dapetin jumlah search\n",
    "for div in soup.find_all('ht:news_item_source'):\n",
    "    try:\n",
    "        print (\"Linknya : \"+div.get_text())        \n",
    "    except:\n",
    "        print (\"description : None\")    \n"
   ]
  }
 ],
 "metadata": {
  "kernelspec": {
   "display_name": "Python 3",
   "language": "python",
   "name": "python3"
  },
  "language_info": {
   "codemirror_mode": {
    "name": "ipython",
    "version": 3
   },
   "file_extension": ".py",
   "mimetype": "text/x-python",
   "name": "python",
   "nbconvert_exporter": "python",
   "pygments_lexer": "ipython3",
   "version": "3.6.4"
  }
 },
 "nbformat": 4,
 "nbformat_minor": 2
}
